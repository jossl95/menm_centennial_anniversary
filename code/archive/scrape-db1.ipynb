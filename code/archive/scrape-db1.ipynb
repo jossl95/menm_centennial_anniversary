{
 "cells": [
  {
   "cell_type": "code",
   "execution_count": 64,
   "metadata": {
    "executionInfo": {
     "elapsed": 794,
     "status": "ok",
     "timestamp": 1701688398607,
     "user": {
      "displayName": "Jos Slabbekoorn",
      "userId": "17499275473582997180"
     },
     "user_tz": -60
    },
    "id": "Dd3GF60w60vV"
   },
   "outputs": [],
   "source": [
    "from bs4 import BeautifulSoup\n",
    "import requests\n",
    "import httpx\n",
    "import pandas as pd\n",
    "import numpy as np\n",
    "from tqdm.notebook import tqdm"
   ]
  },
  {
   "cell_type": "code",
   "execution_count": 65,
   "metadata": {
    "executionInfo": {
     "elapsed": 499,
     "status": "ok",
     "timestamp": 1701688400912,
     "user": {
      "displayName": "Jos Slabbekoorn",
      "userId": "17499275473582997180"
     },
     "user_tz": -60
    },
    "id": "gzalv2rL7dL2"
   },
   "outputs": [],
   "source": [
    "class trialContextManager:\n",
    "    def __enter__(self): pass\n",
    "    def __exit__(self, *args): return True\n",
    "trial = trialContextManager()"
   ]
  },
  {
   "cell_type": "markdown",
   "metadata": {},
   "source": [
    "# Archive 1"
   ]
  },
  {
   "cell_type": "code",
   "execution_count": 70,
   "metadata": {
    "executionInfo": {
     "elapsed": 5,
     "status": "ok",
     "timestamp": 1701688400912,
     "user": {
      "displayName": "Jos Slabbekoorn",
      "userId": "17499275473582997180"
     },
     "user_tz": -60
    },
    "id": "Y5FUC-3772RP"
   },
   "outputs": [],
   "source": [
    "def parse_items(items, section='algemeen'):\n",
    "    hold = []\n",
    "    if section != 'algemeen':\n",
    "        for i, item in enumerate(items):\n",
    "            title = item.find_all(\"div\", {\"class\": \"title\"})\n",
    "            if (i % 2) == 0 :\n",
    "                id = title[0].find('a').get('id')\n",
    "                url = title[0].find('a').get('href')\n",
    "                with trial: title = title[0].find('a').string.strip()\n",
    "                authors = item.find_all('div', {'class': 'authors'})[0].string.strip().split('\\t')\n",
    "                with trial: pages = item.find_all('div', {'class': 'pages'})[0].string.strip()\n",
    "                article = pd.DataFrame({'id': id, 'title': title, 'authors': authors, 'pages': pages, 'url': url})\n",
    "                hold.append(article)\n",
    "    else:\n",
    "        for i, item in enumerate(items):\n",
    "            title = item.find_all(\"div\", {\"class\": \"title\"})\n",
    "            if (i % 2) == 0 :\n",
    "                id = title[0].find('a').get('id')\n",
    "                url = title[0].find('a').get('href')\n",
    "                with trial: title = title[0].find('a').string.strip()\n",
    "                authors = item.find_all('div', {'class': 'authors'})[0].string.strip().split('\\t')\n",
    "                pages = None\n",
    "                article = pd.DataFrame({'id': id, 'title': title, 'authors': authors, 'pages': pages, 'url': url})\n",
    "                hold.append(article)\n",
    "\n",
    "    df2 = pd.concat(hold).assign(section=section)\n",
    "    return(df2)\n",
    "\n",
    "def scrape_article(url):\n",
    "    r = requests.get(url)\n",
    "    soup = BeautifulSoup(r.content, 'lxml')\n",
    "    hold = []\n",
    "    for section in soup.find_all(\"div\", {\"class\": \"section\"}):\n",
    "        title = section.h2.contents[0].strip()\n",
    "        elements = section.find_all('ul', {'class': \"cmp_article_list articles\"})\n",
    "        element_hold = []\n",
    "        for element in elements:\n",
    "            hold.append(parse_items(element.find_all('li'), section=title.lower()))\n",
    "\n",
    "    df2 = pd.concat(hold)\n",
    "    return(df2)"
   ]
  },
  {
   "cell_type": "code",
   "execution_count": 71,
   "metadata": {
    "executionInfo": {
     "elapsed": 7,
     "status": "ok",
     "timestamp": 1701688401265,
     "user": {
      "displayName": "Jos Slabbekoorn",
      "userId": "17499275473582997180"
     },
     "user_tz": -60
    },
    "id": "9i_QocM57f2R"
   },
   "outputs": [],
   "source": [
    "def scrape_archive(url):\n",
    "    # load a page\n",
    "    r = httpx.get(url)\n",
    "    soup = BeautifulSoup(r.content, 'lxml')\n",
    "\n",
    "    # parse webpage\n",
    "    listings = soup.find_all(\"a\", {\"class\": \"title\"})\n",
    "    urls = [listing.get('href') for listing in listings]\n",
    "    titles = [listing.find(string=True).strip() for listing in listings]\n",
    "\n",
    "    # add data to dataframe\n",
    "    df = pd.DataFrame({'issue': titles, 'url' : urls})\n",
    "\n",
    "    return(df)"
   ]
  },
  {
   "cell_type": "code",
   "execution_count": 72,
   "metadata": {
    "id": "K1ExU2-07hbL"
   },
   "outputs": [],
   "source": [
    "base_url = \"https://ugp.rug.nl/MenM/issue/archive\"\n",
    "is_not_last_page = ''\n",
    "hold = []\n",
    "for i in range(1, 17):\n",
    "    if i == 1:\n",
    "        url = base_url\n",
    "    else:\n",
    "        url = f\"{base_url}/{i}\"\n",
    "\n",
    "    # scrape data\n",
    "    is_not_last_page = url.split(\"/\")[-1]\n",
    "    df = scrape_archive(url)\n",
    "    hold.append(df)\n",
    "\n",
    "df = pd.concat(hold).reset_index(drop=True)"
   ]
  },
  {
   "cell_type": "code",
   "execution_count": 73,
   "metadata": {
    "executionInfo": {
     "elapsed": 232014,
     "status": "ok",
     "timestamp": 1701688730681,
     "user": {
      "displayName": "Jos Slabbekoorn",
      "userId": "17499275473582997180"
     },
     "user_tz": -60
    },
    "id": "MUAHUr0Y7kg_"
   },
   "outputs": [
    {
     "data": {
      "application/vnd.jupyter.widget-view+json": {
       "model_id": "ebab7bb0aed34d349bb6f887ed90b72d",
       "version_major": 2,
       "version_minor": 0
      },
      "text/plain": [
       "  0%|          | 0/387 [00:00<?, ?it/s]"
      ]
     },
     "metadata": {},
     "output_type": "display_data"
    }
   ],
   "source": [
    "hold = []\n",
    "for i, row in tqdm(df.iterrows(), total=df.shape[0]):\n",
    "    article = scrape_article(row['url']).assign(issue = row['issue'])\n",
    "    hold.append(article)\n",
    "\n",
    "df2 = pd.concat(hold).reset_index(drop=True)"
   ]
  },
  {
   "cell_type": "code",
   "execution_count": 74,
   "metadata": {
    "executionInfo": {
     "elapsed": 82,
     "status": "ok",
     "timestamp": 1701688730690,
     "user": {
      "displayName": "Jos Slabbekoorn",
      "userId": "17499275473582997180"
     },
     "user_tz": -60
    },
    "id": "l7nbNQiu7r_g"
   },
   "outputs": [],
   "source": [
    "def parse_abstract(soup):\n",
    "    abstract = None\n",
    "    abstract_tag = soup.find('section', {\"class\": \"item abstract\"})\n",
    "    if abstract_tag:\n",
    "        abstract = abstract_tag.get_text().replace('\\n', '').replace('\\t', '').replace('Samenvatting', '')\n",
    "    return abstract\n",
    "\n",
    "def parse_tags(soup):\n",
    "    tags = None\n",
    "    tags_tag = soup.find('section', {\"class\": \"item keywords\"})\n",
    "    if tags_tag:\n",
    "        tags = tags_tag.get_text().replace('\\n', '').replace('\\t', '').replace('Trefwoorden:', '')\n",
    "    return tags\n",
    "\n",
    "def parse_date(soup):\n",
    "    date = None\n",
    "    date_tag = soup.find('div', {\"class\": \"item published\"})\n",
    "    if date_tag:\n",
    "        date = date_tag.get_text().replace('\\n', '').replace('\\t', '').replace('Gepubliceerd', '')\n",
    "    return date\n",
    "\n",
    "\n",
    "def scrape_article_urls(self):\n",
    "  for index,row in tqdm(self.iterrows(), total=self.shape[0]):\n",
    "      r = httpx.get(row['url'])\n",
    "      soup = BeautifulSoup(r.content, 'lxml')\n",
    "      self.loc[index,'abstract'] = parse_abstract(soup)\n",
    "      self.loc[index,'tags'] = parse_tags(soup)\n",
    "      self.loc[index,'date'] = parse_date(soup)\n",
    "  return(self)\n"
   ]
  },
  {
   "cell_type": "code",
   "execution_count": 59,
   "metadata": {
    "colab": {
     "base_uri": "https://localhost:8080/"
    },
    "executionInfo": {
     "elapsed": 308397,
     "status": "ok",
     "timestamp": 1701690257626,
     "user": {
      "displayName": "Jos Slabbekoorn",
      "userId": "17499275473582997180"
     },
     "user_tz": -60
    },
    "id": "OhPiVNc9_H5e",
    "outputId": "e9a44593-7f02-4ed9-8f75-c73b6908661d"
   },
   "outputs": [
    {
     "data": {
      "application/vnd.jupyter.widget-view+json": {
       "model_id": "2a624a6a6e87412c94cc349a6e640cd6",
       "version_major": 2,
       "version_minor": 0
      },
      "text/plain": [
       "  0%|          | 0/3281 [00:00<?, ?it/s]"
      ]
     },
     "metadata": {},
     "output_type": "display_data"
    }
   ],
   "source": [
    "df2 = df2.pipe(scrape_article_urls)"
   ]
  },
  {
   "cell_type": "code",
   "execution_count": 75,
   "metadata": {
    "executionInfo": {
     "elapsed": 2,
     "status": "ok",
     "timestamp": 1701690257899,
     "user": {
      "displayName": "Jos Slabbekoorn",
      "userId": "17499275473582997180"
     },
     "user_tz": -60
    },
    "id": "zLzRNfN5Q-JF"
   },
   "outputs": [],
   "source": [
    "def get_pdf_url(row):\n",
    "    r = httpx.get(row['url'])\n",
    "    if r.status_code != 200:\n",
    "        r = requests.get(row['url'])\n",
    "    soup = BeautifulSoup(r.content, 'lxml')\n",
    "    view_url = soup.find('a', {'class': 'obj_galley_link pdf'}).get('href')\n",
    "    r = httpx.get(view_url)\n",
    "    if r.status_code != 200:\n",
    "        r = requests.get(view_url)\n",
    "    soup = BeautifulSoup(r.content, 'lxml')\n",
    "    pdf_url = soup.find('a', {'class': 'download'}).get('href')\n",
    "    return(pdf_url)"
   ]
  },
  {
   "cell_type": "code",
   "execution_count": 76,
   "metadata": {
    "colab": {
     "base_uri": "https://localhost:8080/"
    },
    "executionInfo": {
     "elapsed": 2903912,
     "status": "ok",
     "timestamp": 1701693161809,
     "user": {
      "displayName": "Jos Slabbekoorn",
      "userId": "17499275473582997180"
     },
     "user_tz": -60
    },
    "id": "0q5uw16ISNy5",
    "outputId": "3cc793a7-16f1-42d8-94e9-c9728dddd841"
   },
   "outputs": [
    {
     "data": {
      "application/vnd.jupyter.widget-view+json": {
       "model_id": "3b7f1ebd62de4d1ab9ab51536e17e121",
       "version_major": 2,
       "version_minor": 0
      },
      "text/plain": [
       "  0%|          | 0/3281 [00:00<?, ?it/s]"
      ]
     },
     "metadata": {},
     "output_type": "display_data"
    }
   ],
   "source": [
    "for i, row in tqdm(df2.iterrows(), total=df2.shape[0]):\n",
    "  df2.loc[i, 'pdf_url'] = row.pipe(get_pdf_url)"
   ]
  },
  {
   "cell_type": "code",
   "execution_count": 12,
   "metadata": {
    "colab": {
     "base_uri": "https://localhost:8080/",
     "height": 881
    },
    "executionInfo": {
     "elapsed": 8,
     "status": "ok",
     "timestamp": 1701693161813,
     "user": {
      "displayName": "Jos Slabbekoorn",
      "userId": "17499275473582997180"
     },
     "user_tz": -60
    },
    "id": "j0eZmYjkAcUZ",
    "outputId": "28a92c1d-7762-4e85-fea8-3a8a1527b85d"
   },
   "outputs": [
    {
     "data": {
      "text/html": [
       "<div>\n",
       "<style scoped>\n",
       "    .dataframe tbody tr th:only-of-type {\n",
       "        vertical-align: middle;\n",
       "    }\n",
       "\n",
       "    .dataframe tbody tr th {\n",
       "        vertical-align: top;\n",
       "    }\n",
       "\n",
       "    .dataframe thead th {\n",
       "        text-align: right;\n",
       "    }\n",
       "</style>\n",
       "<table border=\"1\" class=\"dataframe\">\n",
       "  <thead>\n",
       "    <tr style=\"text-align: right;\">\n",
       "      <th></th>\n",
       "      <th>id</th>\n",
       "      <th>title</th>\n",
       "      <th>authors</th>\n",
       "      <th>pages</th>\n",
       "      <th>url</th>\n",
       "      <th>section</th>\n",
       "      <th>issue</th>\n",
       "      <th>abstract</th>\n",
       "      <th>tags</th>\n",
       "      <th>date</th>\n",
       "      <th>pdf_url</th>\n",
       "    </tr>\n",
       "  </thead>\n",
       "  <tbody>\n",
       "    <tr>\n",
       "      <th>0</th>\n",
       "      <td>article-37039</td>\n",
       "      <td>Inspiratie en perspectief</td>\n",
       "      <td>Dykstra,Pearl A.</td>\n",
       "      <td>266-267</td>\n",
       "      <td>https://ugp.rug.nl/MenM/article/view/37039</td>\n",
       "      <td>artikelen</td>\n",
       "      <td>Vol 76 Nr 4 (2001)</td>\n",
       "      <td>None</td>\n",
       "      <td>None</td>\n",
       "      <td>2001-12-01</td>\n",
       "      <td>https://ugp.rug.nl/MenM/article/download/37039...</td>\n",
       "    </tr>\n",
       "    <tr>\n",
       "      <th>1</th>\n",
       "      <td>article-37046</td>\n",
       "      <td>Een expertonderzoek naar de waarde van beroepen</td>\n",
       "      <td>Ruijter,Judith de</td>\n",
       "      <td>268-284</td>\n",
       "      <td>https://ugp.rug.nl/MenM/article/view/37046</td>\n",
       "      <td>artikelen</td>\n",
       "      <td>Vol 76 Nr 4 (2001)</td>\n",
       "      <td>An expert research on occupational 'worth'. Su...</td>\n",
       "      <td>None</td>\n",
       "      <td>2001-12-01</td>\n",
       "      <td>https://ugp.rug.nl/MenM/article/download/37046...</td>\n",
       "    </tr>\n",
       "    <tr>\n",
       "      <th>2</th>\n",
       "      <td>article-37047</td>\n",
       "      <td>De invloed van persoonlijkheidskenmerken op he...</td>\n",
       "      <td>Eijck,Koen van,   Graaf,Paul M. de</td>\n",
       "      <td>285-302</td>\n",
       "      <td>https://ugp.rug.nl/MenM/article/view/37047</td>\n",
       "      <td>artikelen</td>\n",
       "      <td>Vol 76 Nr 4 (2001)</td>\n",
       "      <td>The impact of personality traits on educationa...</td>\n",
       "      <td>None</td>\n",
       "      <td>2001-12-01</td>\n",
       "      <td>https://ugp.rug.nl/MenM/article/download/37047...</td>\n",
       "    </tr>\n",
       "    <tr>\n",
       "      <th>3</th>\n",
       "      <td>article-37048</td>\n",
       "      <td>De invloed van waardenoriëntaties op de vormge...</td>\n",
       "      <td>Jansen,Miranda,   Kalmijn,Matthijs</td>\n",
       "      <td>303-324</td>\n",
       "      <td>https://ugp.rug.nl/MenM/article/view/37048</td>\n",
       "      <td>artikelen</td>\n",
       "      <td>Vol 76 Nr 4 (2001)</td>\n",
       "      <td>The impact of value orientations on the design...</td>\n",
       "      <td>None</td>\n",
       "      <td>2001-12-01</td>\n",
       "      <td>https://ugp.rug.nl/MenM/article/download/37048...</td>\n",
       "    </tr>\n",
       "    <tr>\n",
       "      <th>4</th>\n",
       "      <td>article-37050</td>\n",
       "      <td>De invloed van religie en godsdienstige samens...</td>\n",
       "      <td>Tubergen,Frank van,   Grotenhuis,Manfred te,  ...</td>\n",
       "      <td>325-341</td>\n",
       "      <td>https://ugp.rug.nl/MenM/article/view/37050</td>\n",
       "      <td>artikelen</td>\n",
       "      <td>Vol 76 Nr 4 (2001)</td>\n",
       "      <td>The influence of denomination and religious co...</td>\n",
       "      <td>None</td>\n",
       "      <td>2001-12-01</td>\n",
       "      <td>https://ugp.rug.nl/MenM/article/download/37050...</td>\n",
       "    </tr>\n",
       "    <tr>\n",
       "      <th>...</th>\n",
       "      <td>...</td>\n",
       "      <td>...</td>\n",
       "      <td>...</td>\n",
       "      <td>...</td>\n",
       "      <td>...</td>\n",
       "      <td>...</td>\n",
       "      <td>...</td>\n",
       "      <td>...</td>\n",
       "      <td>...</td>\n",
       "      <td>...</td>\n",
       "      <td>...</td>\n",
       "    </tr>\n",
       "    <tr>\n",
       "      <th>3276</th>\n",
       "      <td>article-15388</td>\n",
       "      <td>Referaten</td>\n",
       "      <td></td>\n",
       "      <td>None</td>\n",
       "      <td>https://ugp.rug.nl/MenM/article/view/15388</td>\n",
       "      <td>algemeen</td>\n",
       "      <td>Vol 1 Nr 1 (1925)</td>\n",
       "      <td>None</td>\n",
       "      <td>None</td>\n",
       "      <td>1925-03-01</td>\n",
       "      <td>https://ugp.rug.nl/MenM/article/download/15388...</td>\n",
       "    </tr>\n",
       "    <tr>\n",
       "      <th>3277</th>\n",
       "      <td>article-15389</td>\n",
       "      <td>Varia</td>\n",
       "      <td></td>\n",
       "      <td>None</td>\n",
       "      <td>https://ugp.rug.nl/MenM/article/view/15389</td>\n",
       "      <td>algemeen</td>\n",
       "      <td>Vol 1 Nr 1 (1925)</td>\n",
       "      <td>None</td>\n",
       "      <td>None</td>\n",
       "      <td>1925-03-01</td>\n",
       "      <td>https://ugp.rug.nl/MenM/article/download/15389...</td>\n",
       "    </tr>\n",
       "    <tr>\n",
       "      <th>3278</th>\n",
       "      <td>article-15387</td>\n",
       "      <td>Nederlandsch Nationaal Bureau voor Anthropologie</td>\n",
       "      <td></td>\n",
       "      <td>None</td>\n",
       "      <td>https://ugp.rug.nl/MenM/article/view/15387</td>\n",
       "      <td>algemeen</td>\n",
       "      <td>Vol 1 Nr 1 (1925)</td>\n",
       "      <td>None</td>\n",
       "      <td>None</td>\n",
       "      <td>1925-03-01</td>\n",
       "      <td>https://ugp.rug.nl/MenM/article/download/15387...</td>\n",
       "    </tr>\n",
       "    <tr>\n",
       "      <th>3279</th>\n",
       "      <td>article-15386</td>\n",
       "      <td>Agenda</td>\n",
       "      <td></td>\n",
       "      <td>None</td>\n",
       "      <td>https://ugp.rug.nl/MenM/article/view/15386</td>\n",
       "      <td>algemeen</td>\n",
       "      <td>Vol 1 Nr 1 (1925)</td>\n",
       "      <td>None</td>\n",
       "      <td>None</td>\n",
       "      <td>1925-03-01</td>\n",
       "      <td>https://ugp.rug.nl/MenM/article/download/15386...</td>\n",
       "    </tr>\n",
       "    <tr>\n",
       "      <th>3280</th>\n",
       "      <td>article-15398</td>\n",
       "      <td>Verslag der Ethnologenbijeenkomst te Amsterdam</td>\n",
       "      <td></td>\n",
       "      <td>None</td>\n",
       "      <td>https://ugp.rug.nl/MenM/article/view/15398</td>\n",
       "      <td>algemeen</td>\n",
       "      <td>Vol 1 Nr 1 (1925)</td>\n",
       "      <td>None</td>\n",
       "      <td>None</td>\n",
       "      <td>1925-03-01</td>\n",
       "      <td>https://ugp.rug.nl/MenM/article/download/15398...</td>\n",
       "    </tr>\n",
       "  </tbody>\n",
       "</table>\n",
       "<p>3281 rows × 11 columns</p>\n",
       "</div>"
      ],
      "text/plain": [
       "                 id                                              title  \\\n",
       "0     article-37039                          Inspiratie en perspectief   \n",
       "1     article-37046    Een expertonderzoek naar de waarde van beroepen   \n",
       "2     article-37047  De invloed van persoonlijkheidskenmerken op he...   \n",
       "3     article-37048  De invloed van waardenoriëntaties op de vormge...   \n",
       "4     article-37050  De invloed van religie en godsdienstige samens...   \n",
       "...             ...                                                ...   \n",
       "3276  article-15388                                          Referaten   \n",
       "3277  article-15389                                              Varia   \n",
       "3278  article-15387   Nederlandsch Nationaal Bureau voor Anthropologie   \n",
       "3279  article-15386                                             Agenda   \n",
       "3280  article-15398     Verslag der Ethnologenbijeenkomst te Amsterdam   \n",
       "\n",
       "                                                authors    pages  \\\n",
       "0                                      Dykstra,Pearl A.  266-267   \n",
       "1                                     Ruijter,Judith de  268-284   \n",
       "2                    Eijck,Koen van,   Graaf,Paul M. de  285-302   \n",
       "3                    Jansen,Miranda,   Kalmijn,Matthijs  303-324   \n",
       "4     Tubergen,Frank van,   Grotenhuis,Manfred te,  ...  325-341   \n",
       "...                                                 ...      ...   \n",
       "3276                                                        None   \n",
       "3277                                                        None   \n",
       "3278                                                        None   \n",
       "3279                                                        None   \n",
       "3280                                                        None   \n",
       "\n",
       "                                             url    section  \\\n",
       "0     https://ugp.rug.nl/MenM/article/view/37039  artikelen   \n",
       "1     https://ugp.rug.nl/MenM/article/view/37046  artikelen   \n",
       "2     https://ugp.rug.nl/MenM/article/view/37047  artikelen   \n",
       "3     https://ugp.rug.nl/MenM/article/view/37048  artikelen   \n",
       "4     https://ugp.rug.nl/MenM/article/view/37050  artikelen   \n",
       "...                                          ...        ...   \n",
       "3276  https://ugp.rug.nl/MenM/article/view/15388   algemeen   \n",
       "3277  https://ugp.rug.nl/MenM/article/view/15389   algemeen   \n",
       "3278  https://ugp.rug.nl/MenM/article/view/15387   algemeen   \n",
       "3279  https://ugp.rug.nl/MenM/article/view/15386   algemeen   \n",
       "3280  https://ugp.rug.nl/MenM/article/view/15398   algemeen   \n",
       "\n",
       "                   issue                                           abstract  \\\n",
       "0     Vol 76 Nr 4 (2001)                                               None   \n",
       "1     Vol 76 Nr 4 (2001)  An expert research on occupational 'worth'. Su...   \n",
       "2     Vol 76 Nr 4 (2001)  The impact of personality traits on educationa...   \n",
       "3     Vol 76 Nr 4 (2001)  The impact of value orientations on the design...   \n",
       "4     Vol 76 Nr 4 (2001)  The influence of denomination and religious co...   \n",
       "...                  ...                                                ...   \n",
       "3276   Vol 1 Nr 1 (1925)                                               None   \n",
       "3277   Vol 1 Nr 1 (1925)                                               None   \n",
       "3278   Vol 1 Nr 1 (1925)                                               None   \n",
       "3279   Vol 1 Nr 1 (1925)                                               None   \n",
       "3280   Vol 1 Nr 1 (1925)                                               None   \n",
       "\n",
       "      tags        date                                            pdf_url  \n",
       "0     None  2001-12-01  https://ugp.rug.nl/MenM/article/download/37039...  \n",
       "1     None  2001-12-01  https://ugp.rug.nl/MenM/article/download/37046...  \n",
       "2     None  2001-12-01  https://ugp.rug.nl/MenM/article/download/37047...  \n",
       "3     None  2001-12-01  https://ugp.rug.nl/MenM/article/download/37048...  \n",
       "4     None  2001-12-01  https://ugp.rug.nl/MenM/article/download/37050...  \n",
       "...    ...         ...                                                ...  \n",
       "3276  None  1925-03-01  https://ugp.rug.nl/MenM/article/download/15388...  \n",
       "3277  None  1925-03-01  https://ugp.rug.nl/MenM/article/download/15389...  \n",
       "3278  None  1925-03-01  https://ugp.rug.nl/MenM/article/download/15387...  \n",
       "3279  None  1925-03-01  https://ugp.rug.nl/MenM/article/download/15386...  \n",
       "3280  None  1925-03-01  https://ugp.rug.nl/MenM/article/download/15398...  \n",
       "\n",
       "[3281 rows x 11 columns]"
      ]
     },
     "execution_count": 12,
     "metadata": {},
     "output_type": "execute_result"
    }
   ],
   "source": [
    "df2['database'] = 1\n",
    "df2.to_csv('scraped_data.csv', index=False)\n",
    "df2"
   ]
  },
  {
   "cell_type": "code",
   "execution_count": null,
   "metadata": {},
   "outputs": [],
   "source": []
  }
 ],
 "metadata": {
  "colab": {
   "authorship_tag": "ABX9TyNVjbEea2DCsks3RB83zXr9",
   "mount_file_id": "1hlDF9oI3xdWEqc7EWlPABReQ0OW1pEPJ",
   "provenance": []
  },
  "kernelspec": {
   "display_name": "Python 3 (ipykernel)",
   "language": "python",
   "name": "python3"
  },
  "language_info": {
   "codemirror_mode": {
    "name": "ipython",
    "version": 3
   },
   "file_extension": ".py",
   "mimetype": "text/x-python",
   "name": "python",
   "nbconvert_exporter": "python",
   "pygments_lexer": "ipython3",
   "version": "3.11.8"
  }
 },
 "nbformat": 4,
 "nbformat_minor": 4
}
