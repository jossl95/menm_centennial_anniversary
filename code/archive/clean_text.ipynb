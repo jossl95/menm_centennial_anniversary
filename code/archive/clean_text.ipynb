{
 "cells": [
  {
   "cell_type": "code",
   "execution_count": 1,
   "id": "30f2ed32-f5bc-4fd5-955f-8f4d83ef1046",
   "metadata": {},
   "outputs": [],
   "source": [
    "import os\n",
    "import pandas as pd\n",
    "import json\n",
    "import re"
   ]
  },
  {
   "cell_type": "code",
   "execution_count": 2,
   "id": "c106b5a9-f0e7-4994-9a5e-2792e416326a",
   "metadata": {},
   "outputs": [],
   "source": [
    "class trialContextManager:\n",
    "    def __enter__(self): pass\n",
    "    def __exit__(self, *args): return True\n",
    "trial = trialContextManager()"
   ]
  },
  {
   "cell_type": "code",
   "execution_count": 3,
   "id": "bb1304cb-4b9a-442d-a0a8-64ed9bd5758d",
   "metadata": {},
   "outputs": [],
   "source": [
    "def read_json(file):\n",
    "    with open(file, 'rb') as f:\n",
    "        d = json.load(f)\n",
    "    return(d)"
   ]
  },
  {
   "cell_type": "code",
   "execution_count": 66,
   "id": "7b9ff817-11e6-4ce6-b028-c0e665df8202",
   "metadata": {},
   "outputs": [],
   "source": [
    "def remove_header(d):\n",
    "    # change to fit all formates\n",
    "    for i in d:\n",
    "        paragraphs = d[i].split('\\n\\n')\n",
    "\n",
    "        header, jaargang, page_number, mnm_in_string = [False] * 4\n",
    "        with trial: header = len(paragraphs[0]) < 200 \n",
    "        with trial: jaargang = bool(re.search(\"\\d{4}, jaargang \\d{2}, nr. \\d{1}\", paragraphs))\n",
    "        with trial: page_number = paragraphs[0][0].isdigit() | paragraphs[0][-1].isdigit()\n",
    "        with trial: mnm_in_string = \"Mens & Maatschappij\" in paragraphs[0]\n",
    "        \n",
    "        if header & page_number | mnm_in_string | jaargang:\n",
    "            paragraphs.pop(0)\n",
    "        \n",
    "        text = '\\n\\n'.join(paragraphs)\\\n",
    "            .replace('\\S-\\n', '')\n",
    "        d[i] = text\n",
    "    return(d)"
   ]
  },
  {
   "cell_type": "code",
   "execution_count": 60,
   "id": "28cb2f32-845a-4e23-a096-7d6c6dd9b082",
   "metadata": {},
   "outputs": [],
   "source": [
    "def separate_body_and_footnotes(d):\n",
    "    footnotes = []\n",
    "    for i in d:\n",
    "        paragraphs = d[i].split('\\n\\n')\n",
    "        body = []\n",
    "        for p in paragraphs: \n",
    "            if re.match(r'^\\d+\\)', p):\n",
    "                footnotes.append(p)\n",
    "            else:\n",
    "                body.append(p)\n",
    "        text = '\\n\\n'.join(body)\n",
    "        d[i] = text\n",
    "    return(d, footnotes)"
   ]
  },
  {
   "cell_type": "code",
   "execution_count": 61,
   "id": "4f4b5cb3-479a-476a-b9a9-c821e0b65461",
   "metadata": {},
   "outputs": [],
   "source": [
    "def combine_text(d):\n",
    "    text = ''.join(d.values()).replace('-\\s?\\n', '').replace('-\\n', '')\n",
    "    return(text)"
   ]
  },
  {
   "cell_type": "code",
   "execution_count": 62,
   "id": "bbf9202c-6fc3-47ad-a62b-4720ab8637d3",
   "metadata": {},
   "outputs": [],
   "source": [
    "def write_clean_text(d,f, dir):\n",
    "    # save clean text\n",
    "    outfile = os.path.join(dir, 'clean_text.txt')\n",
    "    with open(outfile, mode='w') as fd:\n",
    "        fd.write(d)\n",
    "    \n",
    "    # write footnotes if available\n",
    "    if f:\n",
    "        f_file = os.path.join(dir, 'footnotes.json')\n",
    "        with open(f_file, 'w') as file:\n",
    "            json.dump(f, file)"
   ]
  },
  {
   "cell_type": "code",
   "execution_count": 67,
   "id": "1297acb8-b29a-4235-a8b2-97e56f077146",
   "metadata": {},
   "outputs": [],
   "source": [
    "def remove_pagenumber(d):\n",
    "    p_hold = []\n",
    "    for paragraph in d.split('\\n\\n'):\n",
    "        lines = paragraph.split('\\n')\n",
    "        hold = []\n",
    "        for line in lines:\n",
    "            if re.match('^[0-9]*$',line):\n",
    "                pass\n",
    "            else:\n",
    "                hold.append(line)\n",
    "            text = '\\n'.join(hold)\n",
    "        p_hold.append(text)\n",
    "    d = '\\n\\n'.join(p_hold)\n",
    "    return(d)"
   ]
  },
  {
   "cell_type": "code",
   "execution_count": 73,
   "id": "9a41cdf2-14e5-4e53-a2d6-89a5533e480a",
   "metadata": {},
   "outputs": [],
   "source": [
    "def main(dir, file):\n",
    "    d = read_json(file)\n",
    "    d = remove_header(d)\n",
    "    d, f = separate_body_and_footnotes(d)\n",
    "    d = combine_text(d)\n",
    "    d = remove_pagenumber(d)\n",
    "    write_clean_text(d,f, dir)"
   ]
  },
  {
   "cell_type": "code",
   "execution_count": 74,
   "id": "93598a9f-72f5-49ad-b19b-89459cdd9301",
   "metadata": {},
   "outputs": [],
   "source": [
    "issues = os.listdir('database')\n",
    "for issue in issues:\n",
    "    articles = os.listdir(os.path.join('database',issue))\n",
    "    for article in articles:\n",
    "        dir = os.path.join('database', issue, article)\n",
    "        file = os.path.join(dir, 'text.json')\n",
    "        main(dir, file)\n",
    "\n"
   ]
  },
  {
   "cell_type": "code",
   "execution_count": 70,
   "id": "02bcb8d0-f50e-4088-85dd-c9b586cd541d",
   "metadata": {},
   "outputs": [
    {
     "ename": "NameError",
     "evalue": "name 'f' is not defined",
     "output_type": "error",
     "traceback": [
      "\u001b[0;31m---------------------------------------------------------------------------\u001b[0m",
      "\u001b[0;31mNameError\u001b[0m                                 Traceback (most recent call last)",
      "Cell \u001b[0;32mIn[70], line 1\u001b[0m\n\u001b[0;32m----> 1\u001b[0m \u001b[43mf\u001b[49m\n",
      "\u001b[0;31mNameError\u001b[0m: name 'f' is not defined"
     ]
    }
   ],
   "source": []
  },
  {
   "cell_type": "code",
   "execution_count": null,
   "id": "40624ee1-784b-4dee-a3fa-7cfefebcc4ce",
   "metadata": {},
   "outputs": [],
   "source": []
  }
 ],
 "metadata": {
  "kernelspec": {
   "display_name": "Python 3 (ipykernel)",
   "language": "python",
   "name": "python3"
  },
  "language_info": {
   "codemirror_mode": {
    "name": "ipython",
    "version": 3
   },
   "file_extension": ".py",
   "mimetype": "text/x-python",
   "name": "python",
   "nbconvert_exporter": "python",
   "pygments_lexer": "ipython3",
   "version": "3.11.8"
  }
 },
 "nbformat": 4,
 "nbformat_minor": 5
}
