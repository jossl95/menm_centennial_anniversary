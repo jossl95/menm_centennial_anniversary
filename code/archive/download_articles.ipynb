{
 "cells": [
  {
   "cell_type": "code",
   "execution_count": 118,
   "id": "050eaea4-86a5-4f2a-8282-016086e07b36",
   "metadata": {},
   "outputs": [],
   "source": [
    "import requests\n",
    "import httpx\n",
    "import os\n",
    "import pandas as pd\n",
    "from tqdm.notebook import tqdm"
   ]
  },
  {
   "cell_type": "code",
   "execution_count": 121,
   "id": "d2a4e98c-1007-4303-969f-5c8a54476c8c",
   "metadata": {},
   "outputs": [],
   "source": [
    "def download_article(row, legacy=False):\n",
    "    # load a page\n",
    "    download_response = requests.get(row['pdf_url']) if legacy else httpx.get(row['pdf_url'])\n",
    "    if download_response.status_code == 200:\n",
    "        # make directory if not existent\n",
    "        if not os.path.exists(os.path.join('database', row['issue'])):\n",
    "            os.makedirs(os.path.join('database', row['issue']))\n",
    "        \n",
    "        path = os.path.join('database', row['issue'], row['id'])\n",
    "        if not os.path.exists(path):\n",
    "            os.makedirs(path)\n",
    "        \n",
    "        # download pdf\n",
    "        with open(f\"{path}/{row['id']}.pdf\", 'wb') as f:\n",
    "                f.write(download_response.content)"
   ]
  },
  {
   "cell_type": "code",
   "execution_count": null,
   "id": "3577c4aa-80de-4a83-bef9-62982e9241be",
   "metadata": {},
   "outputs": [],
   "source": [
    "def create_article_path(issue, article_id):\n",
    "    \"\"\"Creates and returns the directory path for storing an article PDF.\"\"\"\n",
    "    issue_path = os.path.join('database', issue)\n",
    "    article_path = os.path.join(issue_path, article_id)\n",
    "    \n",
    "    # Create necessary directories if they don't exist\n",
    "    os.makedirs(article_path, exist_ok=True)\n",
    "    \n",
    "    return os.path.join(article_path, f\"{article_id}.pdf\")"
   ]
  },
  {
   "cell_type": "code",
   "execution_count": 3,
   "id": "208d1bdf-bd6c-4d26-8d86-8a5980290f47",
   "metadata": {},
   "outputs": [],
   "source": [
    "df = pd.read_csv(\"scraped_data.csv\")"
   ]
  },
  {
   "cell_type": "code",
   "execution_count": 127,
   "id": "326c5c7d-6de4-4cb9-ad4a-cce7b72274fc",
   "metadata": {},
   "outputs": [
    {
     "data": {
      "application/vnd.jupyter.widget-view+json": {
       "model_id": "2121953987934e68a51deba425159a8e",
       "version_major": 2,
       "version_minor": 0
      },
      "text/plain": [
       "  0%|          | 0/3281 [00:00<?, ?it/s]"
      ]
     },
     "metadata": {},
     "output_type": "display_data"
    }
   ],
   "source": [
    "for i, row in tqdm(df.iterrows(), total=df.shape[0]):\n",
    "    download_article(row, legacy=True)"
   ]
  },
  {
   "cell_type": "code",
   "execution_count": 112,
   "id": "96bdded0-1176-4d5b-ba33-23a165820212",
   "metadata": {},
   "outputs": [],
   "source": [
    "df2 = pd.read_csv('scraped_data2.csv')"
   ]
  },
  {
   "cell_type": "code",
   "execution_count": 114,
   "id": "0895e4b4-3121-4f98-a188-f55dcbdd62aa",
   "metadata": {},
   "outputs": [
    {
     "data": {
      "application/vnd.jupyter.widget-view+json": {
       "model_id": "b3e5949a1eb04beb9d93d1b4253f34fd",
       "version_major": 2,
       "version_minor": 0
      },
      "text/plain": [
       "  0%|          | 0/197 [00:00<?, ?it/s]"
      ]
     },
     "metadata": {},
     "output_type": "display_data"
    }
   ],
   "source": [
    "for i, row in tqdm(df2.iterrows(), total=df2.shape[0]):\n",
    "    download_article(row)"
   ]
  },
  {
   "cell_type": "code",
   "execution_count": 122,
   "id": "710f9bb6-9d3a-4226-b0e8-e0700b4b3aeb",
   "metadata": {},
   "outputs": [],
   "source": [
    "df3 = pd.read_csv('scraped_data3.csv')"
   ]
  },
  {
   "cell_type": "code",
   "execution_count": 123,
   "id": "e3697282-abfb-4959-bd07-49f78556e925",
   "metadata": {},
   "outputs": [
    {
     "data": {
      "application/vnd.jupyter.widget-view+json": {
       "model_id": "d4132c26004549c0a77cb277023027c8",
       "version_major": 2,
       "version_minor": 0
      },
      "text/plain": [
       "  0%|          | 0/472 [00:00<?, ?it/s]"
      ]
     },
     "metadata": {},
     "output_type": "display_data"
    }
   ],
   "source": [
    "for i, row in tqdm(df3.iterrows(), total=df3.shape[0]):\n",
    "    pdf_url = str(row['pdf_url'])\n",
    "    if len(pdf_url) <= 3:\n",
    "        continue\n",
    "\n",
    "    download_article(row, legacy=True)"
   ]
  },
  {
   "cell_type": "code",
   "execution_count": null,
   "id": "f6b0b04b-ac82-4e9d-94d0-cb279d514e03",
   "metadata": {},
   "outputs": [],
   "source": []
  }
 ],
 "metadata": {
  "kernelspec": {
   "display_name": "Python 3 (ipykernel)",
   "language": "python",
   "name": "python3"
  },
  "language_info": {
   "codemirror_mode": {
    "name": "ipython",
    "version": 3
   },
   "file_extension": ".py",
   "mimetype": "text/x-python",
   "name": "python",
   "nbconvert_exporter": "python",
   "pygments_lexer": "ipython3",
   "version": "3.11.8"
  }
 },
 "nbformat": 4,
 "nbformat_minor": 5
}
