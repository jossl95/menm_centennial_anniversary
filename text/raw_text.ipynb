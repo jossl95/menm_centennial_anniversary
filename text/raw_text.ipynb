{
 "cells": [
  {
   "cell_type": "markdown",
   "id": "31206106-24e4-4b6b-8f7b-3b2cf94dc5a6",
   "metadata": {},
   "source": [
    "# Mens en Maatschappij 100 jaar: Een analyse trendsgewijze veranderingen van de inhoud van het tijdschrift\n",
    "\n",
    "*Jos Slabbekoorn*<br>\n",
    "Radboud Universiteit<br>\n",
    "jos.slabbekoorn@ru.nl"
   ]
  },
  {
   "cell_type": "code",
   "execution_count": 10,
   "id": "6b7dcd80-ae56-40e6-88e8-2cca8e2c9f1b",
   "metadata": {},
   "outputs": [],
   "source": [
    "import pandas as pd\n",
    "from great_tables import GT"
   ]
  },
  {
   "cell_type": "markdown",
   "id": "2d4c6d02-3071-440b-96dc-0708a17a4464",
   "metadata": {},
   "source": [
    "## Introduction\n",
    "\n",
    "_\"Ter gelegenheid van het zeldzame verschijnsel dat een sociaalwetenschappelijk tijdschrift de eerbiedwaardige leeftijd van vijftig jaar bereikt, hebben wij enkele tellingen verricht.\"_ (Swanborn, 1975, p.271). Zo begon Swanborn zijn bijdrage aan het jubileumnummer toen Mens en Maatschappij 50 jaar bestond, keek een analyse maakte van de publicaties in ons tijdschrift tot dan toe. Nu 50 jaar verder, en Mens en Maatschappij haar honderd jarig jubileum viert, maken we een knipoog naar Swanborns's eerder bijdrage, en maken we een soort gelijke analyse.\n",
    "\n",
    "Met deze knipoog naar Swanborn, maken we graag een soort gelijke analyse van alle bijdrages die Mens en Maatschappij gedurende haar honderd jarige bestaan heeft mogen publiceren. Hoewel deze analyse op diverse manieren kan worden geanalyseerd, zowel via kwantitatieve als kwalitatieve benaderingen. Zullen we in deze bijdrage een kwantitatieve methode hanteren, voor een diepgandere kwalitatieve methode, als reflectie op de tijdsgeest met een bredere, wetenschapshistorische invalshoek, zie de bloemlezig die ook in dit jubileumnummer is opgenomen. In deze tekst richten we ons op het beschrijven van enkele trends die we konden vaststellen op basis van honderd jaargangen van ons eigen tijdschrift. Het is aan de lezer om hierin een weerspiegeling te zien van bijvoorbeeld de ontwikkeling van de sociale wetenschappen in Nederland, het reilen en zeilen van een diverse groep Nederlandse sociale wetenschappers, of juist de stempel van eigenzinnige redactiekeuzes. (Swanborn, 1975).\n",
    "\n",
    "Sinds Swanborns analyse is er natuurlijk veel veranderd. In de afgelopen vijftig jaar hebben zich aanzienlijke methodologische en technologische ontwikkelingen voorgedaan, waardoor onze aanpak er fundamenteel anders uitziet dan toen. Voor deze analyse maken we gebruik van moderne technieken zoals webscraping om eenvoudig alle publicaties te verzamelen en overzichtelijk te maken. Daarnaast passen we tekstherkenning toe om teksten automatisch uit gescande pdf-bestanden te extraheren en gebruiken we AI-ondersteunde *topic modelling* om artikelen efficiënt op onderwerp te classificeren. Op deze manier laten we het zware en arbeidsintensieve werk grotendels over aan computers, wat een stuk sneller gaat dan de handmatige telling, classificatie en analyse die Swanborn destijds uitvoerde. Daarmee illustreert deze bijdrage meteen ook hoe ingrijpend de methodologische vooruitgang is geweest en welke nieuwe mogelijkheden dit vandaag de dag biedt."
   ]
  },
  {
   "cell_type": "markdown",
   "id": "211bec2c-c23c-4cb2-b32d-ee78f2a40fda",
   "metadata": {},
   "source": [
    "## Data\n",
    "Om mijn dataset samen te stellen, heb ik het volledige archief van het tijdschrift Mens en Maatschappij gescrapet. Dit archief is verspreid over drie verschillende databases[^longnote].\n",
    "Het scrapen ging in een paar stappen: eerst schreef ik Python-scripts om automatisch langs alle webarchief-pagina’s te gaan en belangrijke informatie zoals titels, auteurs, publicatiedata en abstracts eruit te halen. Daarna heb ik de data uit deze drie bronnen samengevoegd tot één overzichtelijk bestand en meteen dubbele entries eruit gefilterd.\n",
    "Vervolgens gebruikte ik deze gecombineerde metadata automatisch de bijbehorende volledige artikelen downloadde.\n",
    "\n",
    "Toen ik alle artikelen eenmaal had gedownload, moest ik de teksten voorbereiden voor verdere analyse. Dit proces verliep in een aantal stappen:\n",
    "- Eerst haalde ik de tekst uit de gedownloade pdf-bestanden, door middel van tekstherkenningssoftware. Dit stelde me instaat om de ruwe tekst uit (ingescande) pdf-bestanden te halen. \n",
    "- Vervolgens maakte ik deze teksten schoner en beter bruikbaar door overbodige elementen zoals voetnoten, paginanummers en dubbele witregels te verwijderen. Hierdoor ontstond een nette en uniforme tekstverzameling die geschikt was voor analyse.\n",
    "- Tijdens het controleren merkte ik dat bepaalde gegevens nog niet compleet waren in de metadata. Daarom parsede ik de schoongemaakte teksten, om hieruit de ontbrekende metadata gericht op te halen en zo eventuele gaten op te vullen.\n",
    "- Als laatste stap zorgde ik ervoor dat de informatie uit de verschillende databases helemaal gelijk werd getrokken. Bijvoorbeeld, auteursnamen, datumnotaties en andere informatie werden geharmoniseerd, zodat ik één overzichtelijke dataset kreeg waarin alle gegevens netjes en consistent waren opgeslagen.\n",
    "\n",
    "\n",
    "[^longnote]: 1925-2001 is online en Open Access beschikbaar via https://ugp.rug.nl/MenM <br>\n",
    "2001-2008 is online en Open Access beschikbaar via https://www.aup.nl/en/journal/mens-en-maatschappij/back-issues <br>\n",
    "2008-heden is online en (gedeeltelijk) Open Access beschikbaar via https://www.aup-online.com/content/journals/00259454/browse?page=previous-issues"
   ]
  },
  {
   "cell_type": "markdown",
   "id": "9faabddb-001e-43f6-bb9c-07d58d6a6af6",
   "metadata": {},
   "source": [
    "## Resultaten\n",
    "\n",
    "### Het aantal publicaties\n",
    "\n",
    "![](figures/article_counts.svg)"
   ]
  },
  {
   "cell_type": "code",
   "execution_count": 23,
   "id": "22db1ef2-7e8b-4113-bf61-cd5d5bab9734",
   "metadata": {},
   "outputs": [
    {
     "name": "stdout",
     "output_type": "stream",
     "text": [
      "make new table with nr of art, page counts\n"
     ]
    }
   ],
   "source": [
    "print(\"make new table with nr of art, page counts\")"
   ]
  },
  {
   "cell_type": "markdown",
   "id": "dd75d126-bbe4-4de5-9625-8d4f16ed6d74",
   "metadata": {},
   "source": [
    "### Aantal auteurs\n",
    "\n",
    "\n",
    "![](figures/author_counts.svg)"
   ]
  },
  {
   "cell_type": "code",
   "execution_count": 24,
   "id": "a81053ca-b0e0-4226-9135-8dfd0ecdba41",
   "metadata": {},
   "outputs": [
    {
     "data": {
      "text/html": [
       "<div id=\"guxvpybpiv\" style=\"padding-left:0px;padding-right:0px;padding-top:10px;padding-bottom:10px;overflow-x:auto;overflow-y:auto;width:auto;height:auto;\">\n",
       "<style>\n",
       "#guxvpybpiv table {\n",
       "          font-family: -apple-system, BlinkMacSystemFont, 'Segoe UI', Roboto, Oxygen, Ubuntu, Cantarell, 'Helvetica Neue', 'Fira Sans', 'Droid Sans', Arial, sans-serif;\n",
       "          -webkit-font-smoothing: antialiased;\n",
       "          -moz-osx-font-smoothing: grayscale;\n",
       "        }\n",
       "\n",
       "#guxvpybpiv thead, tbody, tfoot, tr, td, th { border-style: none; }\n",
       " tr { background-color: transparent; }\n",
       "#guxvpybpiv p { margin: 0; padding: 0; }\n",
       " #guxvpybpiv .gt_table { display: table; border-collapse: collapse; line-height: normal; margin-left: auto; margin-right: auto; color: #333333; font-size: 16px; font-weight: normal; font-style: normal; background-color: #FFFFFF; width: auto; border-top-style: solid; border-top-width: 2px; border-top-color: #A8A8A8; border-right-style: none; border-right-width: 2px; border-right-color: #D3D3D3; border-bottom-style: solid; border-bottom-width: 2px; border-bottom-color: #A8A8A8; border-left-style: none; border-left-width: 2px; border-left-color: #D3D3D3; }\n",
       " #guxvpybpiv .gt_caption { padding-top: 4px; padding-bottom: 4px; }\n",
       " #guxvpybpiv .gt_title { color: #333333; font-size: 125%; font-weight: initial; padding-top: 4px; padding-bottom: 4px; padding-left: 5px; padding-right: 5px; border-bottom-color: #FFFFFF; border-bottom-width: 0; }\n",
       " #guxvpybpiv .gt_subtitle { color: #333333; font-size: 85%; font-weight: initial; padding-top: 3px; padding-bottom: 5px; padding-left: 5px; padding-right: 5px; border-top-color: #FFFFFF; border-top-width: 0; }\n",
       " #guxvpybpiv .gt_heading { background-color: #FFFFFF; text-align: center; border-bottom-color: #FFFFFF; border-left-style: none; border-left-width: 1px; border-left-color: #D3D3D3; border-right-style: none; border-right-width: 1px; border-right-color: #D3D3D3; }\n",
       " #guxvpybpiv .gt_bottom_border { border-bottom-style: solid; border-bottom-width: 2px; border-bottom-color: #D3D3D3; }\n",
       " #guxvpybpiv .gt_col_headings { border-top-style: solid; border-top-width: 2px; border-top-color: #D3D3D3; border-bottom-style: solid; border-bottom-width: 2px; border-bottom-color: #D3D3D3; border-left-style: none; border-left-width: 1px; border-left-color: #D3D3D3; border-right-style: none; border-right-width: 1px; border-right-color: #D3D3D3; }\n",
       " #guxvpybpiv .gt_col_heading { color: #333333; background-color: #FFFFFF; font-size: 100%; font-weight: normal; text-transform: inherit; border-left-style: none; border-left-width: 1px; border-left-color: #D3D3D3; border-right-style: none; border-right-width: 1px; border-right-color: #D3D3D3; vertical-align: bottom; padding-top: 5px; padding-bottom: 5px; padding-left: 5px; padding-right: 5px; overflow-x: hidden; }\n",
       " #guxvpybpiv .gt_column_spanner_outer { color: #333333; background-color: #FFFFFF; font-size: 100%; font-weight: normal; text-transform: inherit; padding-top: 0; padding-bottom: 0; padding-left: 4px; padding-right: 4px; }\n",
       " #guxvpybpiv .gt_column_spanner_outer:first-child { padding-left: 0; }\n",
       " #guxvpybpiv .gt_column_spanner_outer:last-child { padding-right: 0; }\n",
       " #guxvpybpiv .gt_column_spanner { border-bottom-style: solid; border-bottom-width: 2px; border-bottom-color: #D3D3D3; vertical-align: bottom; padding-top: 5px; padding-bottom: 5px; overflow-x: hidden; display: inline-block; width: 100%; }\n",
       " #guxvpybpiv .gt_spanner_row { border-bottom-style: hidden; }\n",
       " #guxvpybpiv .gt_group_heading { padding-top: 8px; padding-bottom: 8px; padding-left: 5px; padding-right: 5px; color: #333333; background-color: #FFFFFF; font-size: 100%; font-weight: initial; text-transform: inherit; border-top-style: solid; border-top-width: 2px; border-top-color: #D3D3D3; border-bottom-style: solid; border-bottom-width: 2px; border-bottom-color: #D3D3D3; border-left-style: none; border-left-width: 1px; border-left-color: #D3D3D3; border-right-style: none; border-right-width: 1px; border-right-color: #D3D3D3; vertical-align: middle; text-align: left; }\n",
       " #guxvpybpiv .gt_empty_group_heading { padding: 0.5px; color: #333333; background-color: #FFFFFF; font-size: 100%; font-weight: initial; border-top-style: solid; border-top-width: 2px; border-top-color: #D3D3D3; border-bottom-style: solid; border-bottom-width: 2px; border-bottom-color: #D3D3D3; vertical-align: middle; }\n",
       " #guxvpybpiv .gt_from_md> :first-child { margin-top: 0; }\n",
       " #guxvpybpiv .gt_from_md> :last-child { margin-bottom: 0; }\n",
       " #guxvpybpiv .gt_row { padding-top: 8px; padding-bottom: 8px; padding-left: 5px; padding-right: 5px; margin: 10px; border-top-style: solid; border-top-width: 1px; border-top-color: #D3D3D3; border-left-style: none; border-left-width: 1px; border-left-color: #D3D3D3; border-right-style: none; border-right-width: 1px; border-right-color: #D3D3D3; vertical-align: middle; overflow-x: hidden; }\n",
       " #guxvpybpiv .gt_stub { color: #333333; background-color: #FFFFFF; font-size: 100%; font-weight: initial; text-transform: inherit; border-right-style: solid; border-right-width: 2px; border-right-color: #D3D3D3; padding-left: 5px; padding-right: 5px; }\n",
       " #guxvpybpiv .gt_stub_row_group { color: #333333; background-color: #FFFFFF; font-size: 100%; font-weight: initial; text-transform: inherit; border-right-style: solid; border-right-width: 2px; border-right-color: #D3D3D3; padding-left: 5px; padding-right: 5px; vertical-align: top; }\n",
       " #guxvpybpiv .gt_row_group_first td { border-top-width: 2px; }\n",
       " #guxvpybpiv .gt_row_group_first th { border-top-width: 2px; }\n",
       " #guxvpybpiv .gt_striped { background-color: rgba(128,128,128,0.05); }\n",
       " #guxvpybpiv .gt_table_body { border-top-style: solid; border-top-width: 2px; border-top-color: #D3D3D3; border-bottom-style: solid; border-bottom-width: 2px; border-bottom-color: #D3D3D3; }\n",
       " #guxvpybpiv .gt_sourcenotes { color: #333333; background-color: #FFFFFF; border-bottom-style: none; border-bottom-width: 2px; border-bottom-color: #D3D3D3; border-left-style: none; border-left-width: 2px; border-left-color: #D3D3D3; border-right-style: none; border-right-width: 2px; border-right-color: #D3D3D3; }\n",
       " #guxvpybpiv .gt_sourcenote { font-size: 90%; padding-top: 4px; padding-bottom: 4px; padding-left: 5px; padding-right: 5px; text-align: left; }\n",
       " #guxvpybpiv .gt_left { text-align: left; }\n",
       " #guxvpybpiv .gt_center { text-align: center; }\n",
       " #guxvpybpiv .gt_right { text-align: right; font-variant-numeric: tabular-nums; }\n",
       " #guxvpybpiv .gt_font_normal { font-weight: normal; }\n",
       " #guxvpybpiv .gt_font_bold { font-weight: bold; }\n",
       " #guxvpybpiv .gt_font_italic { font-style: italic; }\n",
       " #guxvpybpiv .gt_super { font-size: 65%; }\n",
       " #guxvpybpiv .gt_footnote_marks { font-size: 75%; vertical-align: 0.4em; position: initial; }\n",
       " #guxvpybpiv .gt_asterisk { font-size: 100%; vertical-align: 0; }\n",
       " \n",
       "</style>\n",
       "<table class=\"gt_table\" data-quarto-disable-processing=\"false\" data-quarto-bootstrap=\"false\">\n",
       "<thead>\n",
       "\n",
       "<tr class=\"gt_col_headings gt_spanner_row\">\n",
       "  <th class=\"gt_col_heading gt_columns_bottom_border gt_left\" rowspan=\"2\" colspan=\"1\" scope=\"col\" id=\"Decade\">Decade</th>\n",
       "  <th class=\"gt_center gt_columns_top_border gt_column_spanner_outer\" rowspan=\"1\" colspan=\"6\" scope=\"colgroup\" id=\"Aantal-Auteurs\">\n",
       "    <span class=\"gt_column_spanner\">Aantal Auteurs</span>\n",
       "  </th>\n",
       "</tr>\n",
       "<tr class=\"gt_col_headings\">\n",
       "  <th class=\"gt_col_heading gt_columns_bottom_border gt_right\" rowspan=\"1\" colspan=\"1\" scope=\"col\" id=\"1\">1</th>\n",
       "  <th class=\"gt_col_heading gt_columns_bottom_border gt_right\" rowspan=\"1\" colspan=\"1\" scope=\"col\" id=\"2\">2</th>\n",
       "  <th class=\"gt_col_heading gt_columns_bottom_border gt_right\" rowspan=\"1\" colspan=\"1\" scope=\"col\" id=\"3\">3</th>\n",
       "  <th class=\"gt_col_heading gt_columns_bottom_border gt_right\" rowspan=\"1\" colspan=\"1\" scope=\"col\" id=\"4\">4</th>\n",
       "  <th class=\"gt_col_heading gt_columns_bottom_border gt_right\" rowspan=\"1\" colspan=\"1\" scope=\"col\" id=\"5\">5</th>\n",
       "  <th class=\"gt_col_heading gt_columns_bottom_border gt_right\" rowspan=\"1\" colspan=\"1\" scope=\"col\" id=\"6\">6</th>\n",
       "</tr>\n",
       "</thead>\n",
       "<tbody class=\"gt_table_body\">\n",
       "  <tr>\n",
       "    <td class=\"gt_row gt_left\">(1935, 1945]</td>\n",
       "    <td class=\"gt_row gt_right\">221</td>\n",
       "    <td class=\"gt_row gt_right\">6</td>\n",
       "    <td class=\"gt_row gt_right\">0</td>\n",
       "    <td class=\"gt_row gt_right\">0</td>\n",
       "    <td class=\"gt_row gt_right\">0</td>\n",
       "    <td class=\"gt_row gt_right\">0</td>\n",
       "  </tr>\n",
       "  <tr>\n",
       "    <td class=\"gt_row gt_left\">(1945, 1955]</td>\n",
       "    <td class=\"gt_row gt_right\">209</td>\n",
       "    <td class=\"gt_row gt_right\">7</td>\n",
       "    <td class=\"gt_row gt_right\">0</td>\n",
       "    <td class=\"gt_row gt_right\">0</td>\n",
       "    <td class=\"gt_row gt_right\">1</td>\n",
       "    <td class=\"gt_row gt_right\">0</td>\n",
       "  </tr>\n",
       "  <tr>\n",
       "    <td class=\"gt_row gt_left\">(1955, 1965]</td>\n",
       "    <td class=\"gt_row gt_right\">264</td>\n",
       "    <td class=\"gt_row gt_right\">9</td>\n",
       "    <td class=\"gt_row gt_right\">0</td>\n",
       "    <td class=\"gt_row gt_right\">0</td>\n",
       "    <td class=\"gt_row gt_right\">0</td>\n",
       "    <td class=\"gt_row gt_right\">0</td>\n",
       "  </tr>\n",
       "  <tr>\n",
       "    <td class=\"gt_row gt_left\">(1965, 1975]</td>\n",
       "    <td class=\"gt_row gt_right\">178</td>\n",
       "    <td class=\"gt_row gt_right\">22</td>\n",
       "    <td class=\"gt_row gt_right\">7</td>\n",
       "    <td class=\"gt_row gt_right\">1</td>\n",
       "    <td class=\"gt_row gt_right\">3</td>\n",
       "    <td class=\"gt_row gt_right\">0</td>\n",
       "  </tr>\n",
       "  <tr>\n",
       "    <td class=\"gt_row gt_left\">(1975, 1985]</td>\n",
       "    <td class=\"gt_row gt_right\">163</td>\n",
       "    <td class=\"gt_row gt_right\">54</td>\n",
       "    <td class=\"gt_row gt_right\">13</td>\n",
       "    <td class=\"gt_row gt_right\">4</td>\n",
       "    <td class=\"gt_row gt_right\">1</td>\n",
       "    <td class=\"gt_row gt_right\">0</td>\n",
       "  </tr>\n",
       "  <tr>\n",
       "    <td class=\"gt_row gt_left\">(1985, 1995]</td>\n",
       "    <td class=\"gt_row gt_right\">135</td>\n",
       "    <td class=\"gt_row gt_right\">58</td>\n",
       "    <td class=\"gt_row gt_right\">41</td>\n",
       "    <td class=\"gt_row gt_right\">6</td>\n",
       "    <td class=\"gt_row gt_right\">1</td>\n",
       "    <td class=\"gt_row gt_right\">0</td>\n",
       "  </tr>\n",
       "  <tr>\n",
       "    <td class=\"gt_row gt_left\">(1995, 2005]</td>\n",
       "    <td class=\"gt_row gt_right\">100</td>\n",
       "    <td class=\"gt_row gt_right\">74</td>\n",
       "    <td class=\"gt_row gt_right\">30</td>\n",
       "    <td class=\"gt_row gt_right\">5</td>\n",
       "    <td class=\"gt_row gt_right\">1</td>\n",
       "    <td class=\"gt_row gt_right\">0</td>\n",
       "  </tr>\n",
       "  <tr>\n",
       "    <td class=\"gt_row gt_left\">(2005, 2015]</td>\n",
       "    <td class=\"gt_row gt_right\">119</td>\n",
       "    <td class=\"gt_row gt_right\">48</td>\n",
       "    <td class=\"gt_row gt_right\">58</td>\n",
       "    <td class=\"gt_row gt_right\">18</td>\n",
       "    <td class=\"gt_row gt_right\">6</td>\n",
       "    <td class=\"gt_row gt_right\">0</td>\n",
       "  </tr>\n",
       "  <tr>\n",
       "    <td class=\"gt_row gt_left\">(2015, 2025]</td>\n",
       "    <td class=\"gt_row gt_right\">120</td>\n",
       "    <td class=\"gt_row gt_right\">70</td>\n",
       "    <td class=\"gt_row gt_right\">39</td>\n",
       "    <td class=\"gt_row gt_right\">17</td>\n",
       "    <td class=\"gt_row gt_right\">5</td>\n",
       "    <td class=\"gt_row gt_right\">4</td>\n",
       "  </tr>\n",
       "</tbody>\n",
       "\n",
       "\n",
       "</table>\n",
       "\n",
       "</div>\n",
       "        "
      ],
      "text/plain": [
       "GT(_tbl_data=         Decade    1   2   3   4  5  6\n",
       "0  (1935, 1945]  221   6   0   0  0  0\n",
       "1  (1945, 1955]  209   7   0   0  1  0\n",
       "2  (1955, 1965]  264   9   0   0  0  0\n",
       "3  (1965, 1975]  178  22   7   1  3  0\n",
       "4  (1975, 1985]  163  54  13   4  1  0\n",
       "5  (1985, 1995]  135  58  41   6  1  0\n",
       "6  (1995, 2005]  100  74  30   5  1  0\n",
       "7  (2005, 2015]  119  48  58  18  6  0\n",
       "8  (2015, 2025]  120  70  39  17  5  4, _body=<great_tables._gt_data.Body object at 0x1527eb210>, _boxhead=Boxhead([ColInfo(var='Decade', type=<ColInfoTypeEnum.default: 1>, column_label='Decade', column_align='left', column_width=None), ColInfo(var='1', type=<ColInfoTypeEnum.default: 1>, column_label='1', column_align='right', column_width=None), ColInfo(var='2', type=<ColInfoTypeEnum.default: 1>, column_label='2', column_align='right', column_width=None), ColInfo(var='3', type=<ColInfoTypeEnum.default: 1>, column_label='3', column_align='right', column_width=None), ColInfo(var='4', type=<ColInfoTypeEnum.default: 1>, column_label='4', column_align='right', column_width=None), ColInfo(var='5', type=<ColInfoTypeEnum.default: 1>, column_label='5', column_align='right', column_width=None), ColInfo(var='6', type=<ColInfoTypeEnum.default: 1>, column_label='6', column_align='right', column_width=None)]), _stub=<great_tables._gt_data.Stub object at 0x152c29790>, _spanners=Spanners([SpannerInfo(spanner_id='Aantal Auteurs', spanner_level=0, spanner_label='Aantal Auteurs', spanner_units=None, spanner_pattern=None, vars=['1', '2', '3', '4', '5', '6'], built=None)]), _heading=Heading(title=None, subtitle=None, preheader=None), _stubhead=None, _source_notes=[], _footnotes=[], _styles=[], _locale=<great_tables._gt_data.Locale object at 0x152c529d0>, _formats=[], _substitutions=[], _options=Options(table_id=OptionsInfo(scss=False, category='table', type='value', value=None), table_caption=OptionsInfo(scss=False, category='table', type='value', value=None), table_width=OptionsInfo(scss=True, category='table', type='px', value='auto'), table_layout=OptionsInfo(scss=True, category='table', type='value', value='fixed'), table_margin_left=OptionsInfo(scss=True, category='table', type='px', value='auto'), table_margin_right=OptionsInfo(scss=True, category='table', type='px', value='auto'), table_background_color=OptionsInfo(scss=True, category='table', type='value', value='#FFFFFF'), table_additional_css=OptionsInfo(scss=False, category='table', type='values', value=[]), table_font_names=OptionsInfo(scss=False, category='table', type='values', value=['-apple-system', 'BlinkMacSystemFont', 'Segoe UI', 'Roboto', 'Oxygen', 'Ubuntu', 'Cantarell', 'Helvetica Neue', 'Fira Sans', 'Droid Sans', 'Arial', 'sans-serif']), table_font_size=OptionsInfo(scss=True, category='table', type='px', value='16px'), table_font_weight=OptionsInfo(scss=True, category='table', type='value', value='normal'), table_font_style=OptionsInfo(scss=True, category='table', type='value', value='normal'), table_font_color=OptionsInfo(scss=True, category='table', type='value', value='#333333'), table_font_color_light=OptionsInfo(scss=True, category='table', type='value', value='#FFFFFF'), table_border_top_include=OptionsInfo(scss=False, category='table', type='boolean', value=True), table_border_top_style=OptionsInfo(scss=True, category='table', type='value', value='solid'), table_border_top_width=OptionsInfo(scss=True, category='table', type='px', value='2px'), table_border_top_color=OptionsInfo(scss=True, category='table', type='value', value='#A8A8A8'), table_border_right_style=OptionsInfo(scss=True, category='table', type='value', value='none'), table_border_right_width=OptionsInfo(scss=True, category='table', type='px', value='2px'), table_border_right_color=OptionsInfo(scss=True, category='table', type='value', value='#D3D3D3'), table_border_bottom_include=OptionsInfo(scss=False, category='table', type='boolean', value=True), table_border_bottom_style=OptionsInfo(scss=True, category='table', type='value', value='solid'), table_border_bottom_width=OptionsInfo(scss=True, category='table', type='px', value='2px'), table_border_bottom_color=OptionsInfo(scss=True, category='table', type='value', value='#A8A8A8'), table_border_left_style=OptionsInfo(scss=True, category='table', type='value', value='none'), table_border_left_width=OptionsInfo(scss=True, category='table', type='px', value='2px'), table_border_left_color=OptionsInfo(scss=True, category='table', type='value', value='#D3D3D3'), heading_background_color=OptionsInfo(scss=True, category='heading', type='value', value=None), heading_align=OptionsInfo(scss=True, category='heading', type='value', value='center'), heading_title_font_size=OptionsInfo(scss=True, category='heading', type='px', value='125%'), heading_title_font_weight=OptionsInfo(scss=True, category='heading', type='value', value='initial'), heading_subtitle_font_size=OptionsInfo(scss=True, category='heading', type='px', value='85%'), heading_subtitle_font_weight=OptionsInfo(scss=True, category='heading', type='value', value='initial'), heading_padding=OptionsInfo(scss=True, category='heading', type='px', value='4px'), heading_padding_horizontal=OptionsInfo(scss=True, category='heading', type='px', value='5px'), heading_border_bottom_style=OptionsInfo(scss=True, category='heading', type='value', value='solid'), heading_border_bottom_width=OptionsInfo(scss=True, category='heading', type='px', value='2px'), heading_border_bottom_color=OptionsInfo(scss=True, category='heading', type='value', value='#D3D3D3'), heading_border_lr_style=OptionsInfo(scss=True, category='heading', type='value', value='none'), heading_border_lr_width=OptionsInfo(scss=True, category='heading', type='px', value='1px'), heading_border_lr_color=OptionsInfo(scss=True, category='heading', type='value', value='#D3D3D3'), column_labels_background_color=OptionsInfo(scss=True, category='column_labels', type='value', value=None), column_labels_font_size=OptionsInfo(scss=True, category='column_labels', type='px', value='100%'), column_labels_font_weight=OptionsInfo(scss=True, category='column_labels', type='value', value='normal'), column_labels_text_transform=OptionsInfo(scss=True, category='column_labels', type='value', value='inherit'), column_labels_padding=OptionsInfo(scss=True, category='column_labels', type='px', value='5px'), column_labels_padding_horizontal=OptionsInfo(scss=True, category='column_labels', type='px', value='5px'), column_labels_vlines_style=OptionsInfo(scss=True, category='table_body', type='value', value='none'), column_labels_vlines_width=OptionsInfo(scss=True, category='table_body', type='px', value='1px'), column_labels_vlines_color=OptionsInfo(scss=True, category='table_body', type='value', value='#D3D3D3'), column_labels_border_top_style=OptionsInfo(scss=True, category='column_labels', type='value', value='solid'), column_labels_border_top_width=OptionsInfo(scss=True, category='column_labels', type='px', value='2px'), column_labels_border_top_color=OptionsInfo(scss=True, category='column_labels', type='value', value='#D3D3D3'), column_labels_border_bottom_style=OptionsInfo(scss=True, category='column_labels', type='value', value='solid'), column_labels_border_bottom_width=OptionsInfo(scss=True, category='column_labels', type='px', value='2px'), column_labels_border_bottom_color=OptionsInfo(scss=True, category='column_labels', type='value', value='#D3D3D3'), column_labels_border_lr_style=OptionsInfo(scss=True, category='column_labels', type='value', value='none'), column_labels_border_lr_width=OptionsInfo(scss=True, category='column_labels', type='px', value='1px'), column_labels_border_lr_color=OptionsInfo(scss=True, category='column_labels', type='value', value='#D3D3D3'), column_labels_hidden=OptionsInfo(scss=False, category='column_labels', type='boolean', value=False), row_group_background_color=OptionsInfo(scss=True, category='row_group', type='value', value=None), row_group_font_size=OptionsInfo(scss=True, category='row_group', type='px', value='100%'), row_group_font_weight=OptionsInfo(scss=True, category='row_group', type='value', value='initial'), row_group_text_transform=OptionsInfo(scss=True, category='row_group', type='value', value='inherit'), row_group_padding=OptionsInfo(scss=True, category='row_group', type='px', value='8px'), row_group_padding_horizontal=OptionsInfo(scss=True, category='row_group', type='px', value='5px'), row_group_border_top_style=OptionsInfo(scss=True, category='row_group', type='value', value='solid'), row_group_border_top_width=OptionsInfo(scss=True, category='row_group', type='px', value='2px'), row_group_border_top_color=OptionsInfo(scss=True, category='row_group', type='value', value='#D3D3D3'), row_group_border_right_style=OptionsInfo(scss=True, category='row_group', type='value', value='none'), row_group_border_right_width=OptionsInfo(scss=True, category='row_group', type='px', value='1px'), row_group_border_right_color=OptionsInfo(scss=True, category='row_group', type='value', value='#D3D3D3'), row_group_border_bottom_style=OptionsInfo(scss=True, category='row_group', type='value', value='solid'), row_group_border_bottom_width=OptionsInfo(scss=True, category='row_group', type='px', value='2px'), row_group_border_bottom_color=OptionsInfo(scss=True, category='row_group', type='value', value='#D3D3D3'), row_group_border_left_style=OptionsInfo(scss=True, category='row_group', type='value', value='none'), row_group_border_left_width=OptionsInfo(scss=True, category='row_group', type='px', value='1px'), row_group_border_left_color=OptionsInfo(scss=True, category='row_group', type='value', value='#D3D3D3'), row_group_as_column=OptionsInfo(scss=False, category='row_group', type='boolean', value=False), table_body_hlines_style=OptionsInfo(scss=True, category='table_body', type='value', value='solid'), table_body_hlines_width=OptionsInfo(scss=True, category='table_body', type='px', value='1px'), table_body_hlines_color=OptionsInfo(scss=True, category='table_body', type='value', value='#D3D3D3'), table_body_vlines_style=OptionsInfo(scss=True, category='table_body', type='value', value='none'), table_body_vlines_width=OptionsInfo(scss=True, category='table_body', type='px', value='1px'), table_body_vlines_color=OptionsInfo(scss=True, category='table_body', type='value', value='#D3D3D3'), table_body_border_top_style=OptionsInfo(scss=True, category='table_body', type='value', value='solid'), table_body_border_top_width=OptionsInfo(scss=True, category='table_body', type='px', value='2px'), table_body_border_top_color=OptionsInfo(scss=True, category='table_body', type='value', value='#D3D3D3'), table_body_border_bottom_style=OptionsInfo(scss=True, category='table_body', type='value', value='solid'), table_body_border_bottom_width=OptionsInfo(scss=True, category='table_body', type='px', value='2px'), table_body_border_bottom_color=OptionsInfo(scss=True, category='table_body', type='value', value='#D3D3D3'), data_row_padding=OptionsInfo(scss=True, category='data_row', type='px', value='8px'), data_row_padding_horizontal=OptionsInfo(scss=True, category='data_row', type='px', value='5px'), stub_background_color=OptionsInfo(scss=True, category='stub', type='value', value=None), stub_font_size=OptionsInfo(scss=True, category='stub', type='px', value='100%'), stub_font_weight=OptionsInfo(scss=True, category='stub', type='value', value='initial'), stub_text_transform=OptionsInfo(scss=True, category='stub', type='value', value='inherit'), stub_border_style=OptionsInfo(scss=True, category='stub', type='value', value='solid'), stub_border_width=OptionsInfo(scss=True, category='stub', type='px', value='2px'), stub_border_color=OptionsInfo(scss=True, category='stub', type='value', value='#D3D3D3'), stub_row_group_background_color=OptionsInfo(scss=True, category='stub', type='value', value=None), stub_row_group_font_size=OptionsInfo(scss=True, category='stub', type='px', value='100%'), stub_row_group_font_weight=OptionsInfo(scss=True, category='stub', type='value', value='initial'), stub_row_group_text_transform=OptionsInfo(scss=True, category='stub', type='value', value='inherit'), stub_row_group_border_style=OptionsInfo(scss=True, category='stub', type='value', value='solid'), stub_row_group_border_width=OptionsInfo(scss=True, category='stub', type='px', value='2px'), stub_row_group_border_color=OptionsInfo(scss=True, category='stub', type='value', value='#D3D3D3'), source_notes_padding=OptionsInfo(scss=True, category='source_notes', type='px', value='4px'), source_notes_padding_horizontal=OptionsInfo(scss=True, category='source_notes', type='px', value='5px'), source_notes_background_color=OptionsInfo(scss=True, category='source_notes', type='value', value=None), source_notes_font_size=OptionsInfo(scss=True, category='source_notes', type='px', value='90%'), source_notes_border_bottom_style=OptionsInfo(scss=True, category='source_notes', type='value', value='none'), source_notes_border_bottom_width=OptionsInfo(scss=True, category='source_notes', type='px', value='2px'), source_notes_border_bottom_color=OptionsInfo(scss=True, category='source_notes', type='value', value='#D3D3D3'), source_notes_border_lr_style=OptionsInfo(scss=True, category='source_notes', type='value', value='none'), source_notes_border_lr_width=OptionsInfo(scss=True, category='source_notes', type='px', value='2px'), source_notes_border_lr_color=OptionsInfo(scss=True, category='source_notes', type='value', value='#D3D3D3'), source_notes_multiline=OptionsInfo(scss=False, category='source_notes', type='boolean', value=True), source_notes_sep=OptionsInfo(scss=False, category='source_notes', type='value', value=' '), row_striping_background_color=OptionsInfo(scss=True, category='row', type='value', value='rgba(128,128,128,0.05)'), row_striping_include_stub=OptionsInfo(scss=False, category='row', type='boolean', value=False), row_striping_include_table_body=OptionsInfo(scss=False, category='row', type='boolean', value=False), container_width=OptionsInfo(scss=False, category='container', type='px', value='auto'), container_height=OptionsInfo(scss=False, category='container', type='px', value='auto'), container_padding_x=OptionsInfo(scss=False, category='container', type='px', value='0px'), container_padding_y=OptionsInfo(scss=False, category='container', type='px', value='10px'), container_overflow_x=OptionsInfo(scss=False, category='container', type='overflow', value='auto'), container_overflow_y=OptionsInfo(scss=False, category='container', type='overflow', value='auto'), quarto_disable_processing=OptionsInfo(scss=False, category='quarto', type='logical', value=False), quarto_use_bootstrap=OptionsInfo(scss=False, category='quarto', type='logical', value=False)), _has_built=False)"
      ]
     },
     "execution_count": 24,
     "metadata": {},
     "output_type": "execute_result"
    }
   ],
   "source": [
    "(\n",
    "    pd.read_excel('tables/author_counts.xlsx')\n",
    "    .assign(decade = lambda x: x['decade'].astype(str))\n",
    "    .set_axis(['Decade', '1', '2', '3', '4', '5', '6'], axis=1)\n",
    "    .pipe(GT)\n",
    "    .tab_spanner(label=\"Aantal Auteurs\", columns=['1', '2', '3', '4', '5', '6'])\n",
    ")"
   ]
  },
  {
   "cell_type": "markdown",
   "id": "3dfc0a70-2363-45e8-b2f2-cbdda2b031e9",
   "metadata": {},
   "source": [
    "### Meest gepubliceerde auteurs\n",
    "\n",
    "![](figures/most_published_authors.svg)"
   ]
  },
  {
   "cell_type": "markdown",
   "id": "1e5b9eb2-4f6c-4d11-8d51-e9cf479c1e0e",
   "metadata": {},
   "source": [
    "### Onderwerpen\n",
    "\n",
    "![](figures/topic_prevalence.svg)"
   ]
  },
  {
   "cell_type": "markdown",
   "id": "94cdec76-ba03-44d4-971c-83e551e68061",
   "metadata": {},
   "source": [
    "## References\n",
    "\n",
    "Swanborn, P. G. (1975). Mens en maatschappij 50 jaar: Enkele opmerkingen over verschuivingen in de inhoud van het tijdschrift. *Mens & Maatschappij, 50*(1), 271–277."
   ]
  },
  {
   "cell_type": "code",
   "execution_count": null,
   "id": "8db171ae-faad-4603-8b9d-0d62f67f3e7f",
   "metadata": {},
   "outputs": [],
   "source": []
  }
 ],
 "metadata": {
  "kernelspec": {
   "display_name": "Python 3 (ipykernel)",
   "language": "python",
   "name": "python3"
  },
  "language_info": {
   "codemirror_mode": {
    "name": "ipython",
    "version": 3
   },
   "file_extension": ".py",
   "mimetype": "text/x-python",
   "name": "python",
   "nbconvert_exporter": "python",
   "pygments_lexer": "ipython3",
   "version": "3.11.8"
  }
 },
 "nbformat": 4,
 "nbformat_minor": 5
}
